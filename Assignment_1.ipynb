{
 "cells": [
  {
   "cell_type": "code",
   "execution_count": 2,
   "id": "ff9ef21a",
   "metadata": {},
   "outputs": [],
   "source": [
    "##Assignment 1"
   ]
  },
  {
   "cell_type": "code",
   "execution_count": 8,
   "id": "67bbc823",
   "metadata": {},
   "outputs": [],
   "source": [
    "# 1. In the below elements which of them are values or an expression? eg:- values can be integer or string and expressions will be mathematical operators.\n",
    "# * , 'hello',-87.8 ,- ,/,+,6\n",
    "\n",
    "#Ans : \n",
    "# Values = 'hello', -87.8 , 6 .\n",
    "#Expression = -, /,+, *."
   ]
  },
  {
   "cell_type": "code",
   "execution_count": 12,
   "id": "ca7bad32",
   "metadata": {},
   "outputs": [],
   "source": [
    "# 2. What is the difference between string and variable?\n",
    "\n",
    "#Ans :\n",
    "\n",
    "#String = String is just the raw text that you will store in a variable. string can be enclosed by single or double quote in python language.\n",
    "#Example- \"hai\" , 'i nueron'\n",
    "\n",
    "#Varaible = whereas a variable is just a name to the primary memory to your computer where you can store the data.( container to store data)\n",
    "#Example- a = 10, b = 'guru'."
   ]
  },
  {
   "cell_type": "code",
   "execution_count": 14,
   "id": "eb1131e9",
   "metadata": {},
   "outputs": [],
   "source": [
    "# 3.Describe three different data types.\n",
    "\n",
    "# Ans :\n",
    "\n",
    "# int : used to store the integer values.( positive & Negaive integers) eg : 4 ,568,-89.\n",
    "\n",
    "# float : used to store the decimal values. eg : 96.85, -69.35.\n",
    "\n",
    "# str : used to store raw Text in single/ doule Quote. eg : '568', \"guru\"."
   ]
  },
  {
   "cell_type": "code",
   "execution_count": 15,
   "id": "97cd1ac8",
   "metadata": {},
   "outputs": [],
   "source": [
    "# 4. What is an expression made up of? What do all expressions do?\n",
    "\n",
    "# Ans : \n",
    "\n",
    "# Expression is made up of values & mathematical operaters , used to evaluate the result ( to represent the result)"
   ]
  },
  {
   "cell_type": "code",
   "execution_count": 16,
   "id": "4b66acaf",
   "metadata": {},
   "outputs": [],
   "source": [
    "# 5. This assignment statements, like spam = 10. What is the difference between an expression and a statement?\n",
    "\n",
    "#a)An expression evaluates to a single value. A statement does not.\n",
    "\n",
    "#b)Statements represent an action or command e.g print statements, assignment statements.\n",
    "\n",
    "#Expression is a combination of variables, operations and values that yields a result value.\n",
    "\n"
   ]
  },
  {
   "cell_type": "code",
   "execution_count": 18,
   "id": "08f97ba1",
   "metadata": {},
   "outputs": [
    {
     "data": {
      "text/plain": [
       "23"
      ]
     },
     "execution_count": 18,
     "metadata": {},
     "output_type": "execute_result"
    }
   ],
   "source": [
    "# 6. After running the following code, what does the variable bacon contain?\n",
    "#bacon = 22\n",
    "#bacon + 1\n",
    "\n",
    "#Ans : \n",
    "bacon = 22\n",
    "bacon + 1\n",
    "\n",
    "#answer will be \" 23 \""
   ]
  },
  {
   "cell_type": "code",
   "execution_count": 20,
   "id": "7ba39f96",
   "metadata": {},
   "outputs": [
    {
     "data": {
      "text/plain": [
       "'spamspamspam'"
      ]
     },
     "execution_count": 20,
     "metadata": {},
     "output_type": "execute_result"
    }
   ],
   "source": [
    "# 7. What should the values of the following two terms be?\n",
    "# 'spam' + 'spamspam'\n",
    "#'spam' * 3\n",
    "\n",
    "# Ans :\n",
    "\n",
    "'spam' + 'spamspam'\n",
    "'spam' * 3\n",
    "\n",
    "#answer will be same in bothcases = 'spamspamspam'"
   ]
  },
  {
   "cell_type": "code",
   "execution_count": 21,
   "id": "6f51618f",
   "metadata": {},
   "outputs": [],
   "source": [
    "# 8. Why is eggs a valid variable name while 100 is invalid?\n",
    "\n",
    "# variable name must start with a letter or the underscore character\n",
    "# A variable name cannot start with a number"
   ]
  },
  {
   "cell_type": "code",
   "execution_count": 22,
   "id": "aed21206",
   "metadata": {},
   "outputs": [],
   "source": [
    "# 9. What three functions can be used to get the integer, floating-point number, or string version of a value?\n",
    "\n",
    "# Ans :\n",
    "# (i) int()\n",
    "# (ii) float()\n",
    "# (iii) str()\n"
   ]
  },
  {
   "cell_type": "code",
   "execution_count": null,
   "id": "27f59480",
   "metadata": {},
   "outputs": [],
   "source": [
    "# 10. Why does this expression cause an error? How can you fix it?\n",
    "# 'I have eaten ' + 99 + ' burritos.'\n",
    "\n",
    "#Ans :\n",
    "\n",
    "#we can concatenate a string with other string using + operator. while + operator works differently with integers. Here 99 is an integer. That's why it is causing an error.\n",
    "#To fix this error, we have to type-cast the 99 which is an integer to string by using str() function.\n",
    "\n",
    "#Eg:- 'I have eaten ' + str(99) + ' burritos.' \n",
    "\n",
    "#Eg:- 'I have eaten ' + '99' + ' burritos.' "
   ]
  }
 ],
 "metadata": {
  "kernelspec": {
   "display_name": "Python 3 (ipykernel)",
   "language": "python",
   "name": "python3"
  },
  "language_info": {
   "codemirror_mode": {
    "name": "ipython",
    "version": 3
   },
   "file_extension": ".py",
   "mimetype": "text/x-python",
   "name": "python",
   "nbconvert_exporter": "python",
   "pygments_lexer": "ipython3",
   "version": "3.9.7"
  }
 },
 "nbformat": 4,
 "nbformat_minor": 5
}
