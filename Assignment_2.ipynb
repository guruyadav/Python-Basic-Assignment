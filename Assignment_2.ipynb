{
 "cells": [
  {
   "cell_type": "code",
   "execution_count": null,
   "id": "69735162",
   "metadata": {},
   "outputs": [],
   "source": [
    "# Assignment 2\n"
   ]
  },
  {
   "cell_type": "code",
   "execution_count": 1,
   "id": "0e6febff",
   "metadata": {},
   "outputs": [],
   "source": [
    "# 1.What are the two values of the Boolean data type? How do you write them?\n",
    "# Ans :\n",
    "\n",
    "# Two values of Boolean data type are:-\n",
    "# (i) True ( 1 )\n",
    "# (ii) False ( 0 )"
   ]
  },
  {
   "cell_type": "code",
   "execution_count": 2,
   "id": "4472005e",
   "metadata": {},
   "outputs": [],
   "source": [
    "# 2. What are the three different types of Boolean operators?\n",
    "# Ans :\n",
    "\n",
    "# The three different types of Boolean operators are :-\n",
    "# (i) or\n",
    "# (ii) and\n",
    "# (iii) not"
   ]
  },
  {
   "cell_type": "code",
   "execution_count": 4,
   "id": "11b15936",
   "metadata": {},
   "outputs": [],
   "source": [
    "#3. Make a list of each Boolean operator's truth tables (i.e. every possible combination of Boolean values for the operator and what it evaluate ).\n",
    "\n",
    "#Ans:\n",
    "\n",
    "# Boolean AND\n",
    "\n",
    "# X               Y                 X and Y\n",
    "\n",
    "# False(0)      False(0)            False(0)\n",
    "# False(0)      True(1)             False(0)\n",
    "# True(1)       False(0)            False(0)\n",
    "# True(1)       True(1)             True(1)\n",
    "\n",
    "\n",
    "# Boolean OR\n",
    "\n",
    "# X                  Y                  X or Y\n",
    "\n",
    "# False(0)          False(0)            False(0)\n",
    "# False(0)          True(1)             True(1)\n",
    "# True(1)           False(0)            True(1)\n",
    "# True(1)           True(1)             True(1)\n",
    "\n",
    "\n",
    "# Boolean NOT\n",
    "\n",
    "# X             X'\n",
    "\n",
    "# True(1)      False(0)\n",
    "# False(0)     True(1)\n"
   ]
  },
  {
   "cell_type": "code",
   "execution_count": 5,
   "id": "437e9b3b",
   "metadata": {},
   "outputs": [],
   "source": [
    "# 4. What are the values of the following expressions?\n",
    "\n",
    "#Ans :\n",
    "\n",
    "# (5 > 4) and (3 == 5)                 =>  #False\n",
    "# not (5 > 4)                          =>  #False\n",
    "# (5 > 4) or (3 == 5)                  =>  #True\n",
    "# not ((5 > 4) or (3 == 5))            =>  #False\n",
    "# (True and True) and (True == False)  => #False\n",
    "# (not False) or (not True)            =>  #True"
   ]
  },
  {
   "cell_type": "code",
   "execution_count": 6,
   "id": "f928f55f",
   "metadata": {},
   "outputs": [],
   "source": [
    "#5. What are the six comparison operators?\n",
    "\n",
    "#Ans :\n",
    "\n",
    "# The six comaparison operators are:-\n",
    "\n",
    "# (i) greater than (>)\n",
    "# (ii) less than (<)\n",
    "# (iii) greater or equal to (>=)\n",
    "#(iv)  less or equal to (<=)\n",
    "# (v) equal to (==)\n",
    "# (vi) not equal to (!=)"
   ]
  },
  {
   "cell_type": "code",
   "execution_count": 8,
   "id": "c6de8ac6",
   "metadata": {},
   "outputs": [],
   "source": [
    "# 6. How do you tell the difference between the equal to and assignment operators? \\ Describe a condition and when you would use one.\n",
    "   \n",
    "# Ans :\n",
    "\n",
    "# Equal operatr is used to perform comparision operation & it will return oolean values.\n",
    "\n",
    "# eg :\n",
    "\n",
    "# \"aadi\" == \"adi\"       (It will return False)\n",
    "\n",
    "# 12 == 12             (It will return True )\n",
    "\n",
    "# Assigment operator is used to Assign a data to a variable.\n",
    "\n",
    "# eg :\n",
    "\n",
    "# a = 50\n",
    "# name = \"guru\"\n"
   ]
  },
  {
   "cell_type": "code",
   "execution_count": 10,
   "id": "92f53f52",
   "metadata": {},
   "outputs": [
    {
     "name": "stdout",
     "output_type": "stream",
     "text": [
      "ham\n",
      "spam\n",
      "spam\n"
     ]
    }
   ],
   "source": [
    "# 7. Identify the three blocks in this code:\n",
    "spam = 0\n",
    "if spam == 10:\n",
    "    print('eggs')\n",
    "if spam > 5:\n",
    "    print('bacon')\n",
    "else:\n",
    "    print('ham')\n",
    "    print('spam')\n",
    "    print('spam')\n",
    "    \n",
    "    \n",
    "# Ans :\n",
    "\n",
    "# ham\n",
    "# spam\n",
    "# spam"
   ]
  },
  {
   "cell_type": "code",
   "execution_count": 24,
   "id": "249b40bd",
   "metadata": {},
   "outputs": [
    {
     "name": "stdout",
     "output_type": "stream",
     "text": [
      "Hello\n",
      "Howdy\n",
      "Greetings!\n",
      "enter spam value : 2\n",
      "Hoedy\n"
     ]
    }
   ],
   "source": [
    "# 8. Write code that prints Hello if 1 is stored in spam, prints Howdy if 2 is stored in spam, and prints Greetings! if anything else is stored in spam.\n",
    "\n",
    "# Ans (a):\n",
    "\n",
    "def myfunc(spam):\n",
    "    if spam == 1:\n",
    "        print(\"Hello\")\n",
    "    elif spam == 2:\n",
    "        print(\"Howdy\")\n",
    "    else :\n",
    "        print(\"Greetings!\")\n",
    "    return\n",
    "        \n",
    "myfunc(1)\n",
    "myfunc(2)\n",
    "myfunc(5)\n",
    "\n",
    "# Ans (b):\n",
    "\n",
    "spam = int(input(\"enter spam value : \"))\n",
    "if spam == 1:\n",
    "    print(\"Hello\")\n",
    "elif spam == 2:\n",
    "    print(\"Howdy\")\n",
    "else :\n",
    "    print(\"Greetings!!\")\n",
    "\n",
    "    "
   ]
  },
  {
   "cell_type": "code",
   "execution_count": 25,
   "id": "ddd1658e",
   "metadata": {},
   "outputs": [],
   "source": [
    "# 9.If your programme is stuck in an endless loop, what keys you’ll press?\n",
    "\n",
    "# Ans :\n",
    "\n",
    "# Press CTRL + c to exit from a infinite loop\n"
   ]
  },
  {
   "cell_type": "code",
   "execution_count": 26,
   "id": "d3c92752",
   "metadata": {},
   "outputs": [],
   "source": [
    "# 10. How can you tell the difference between break and continue?\n",
    "\n",
    "# Ans :\n",
    "\n",
    "# Break is used for the immediate termination of the loop. wherever it will find break keyword within the loop, it will stop its iteration and come out of the loop.\n",
    "\n",
    "# Continue is used to terminate the current iteration and transfers the control to the next iteration of the loop. "
   ]
  },
  {
   "cell_type": "code",
   "execution_count": 27,
   "id": "86d2b9dd",
   "metadata": {},
   "outputs": [],
   "source": [
    "# 11. In a for loop, what is the difference between range(10), range(0, 10), and range(0, 10, 1)?\n",
    "\n",
    "# Ans :\n",
    "\n",
    "# There is no difference in these three statements and it will give the same output.\n",
    "\n",
    "# In range(10), The upper bound is given 10 which is excluded. The default lower bound is 0 and default jump is 1.\n",
    "\n",
    "# In range(0,10), The lower bound is given 0 which is included and upper bound is given 10 which is excluded.Default jump is 1.\n",
    "\n",
    "\n",
    "# In range(0,10,1), The lower bound is 0 and the upper bound is 10 and the jump is 1.\n",
    "\n",
    "# Hence, these three statement will give same result."
   ]
  },
  {
   "cell_type": "code",
   "execution_count": 1,
   "id": "f5454178",
   "metadata": {},
   "outputs": [
    {
     "name": "stdout",
     "output_type": "stream",
     "text": [
      "1\n",
      "2\n",
      "3\n",
      "4\n",
      "5\n",
      "6\n",
      "7\n",
      "8\n",
      "9\n",
      "10\n",
      "1\n",
      "2\n",
      "3\n",
      "4\n",
      "5\n",
      "6\n",
      "7\n",
      "8\n",
      "9\n",
      "10\n"
     ]
    }
   ],
   "source": [
    "# 12. Write a short program that prints the numbers 1 to 10 using a for loop. Then write an equivalent program that prints the numbers 1 to 10 using a while loop.\n",
    "\n",
    "# Ans (a) :\n",
    "\n",
    "for i in range (10):\n",
    "    print(i+1)\n",
    "    \n",
    "# Ans(b) :\n",
    "\n",
    "x = 1\n",
    "while x<= 10:\n",
    "    print(x)\n",
    "    x=x+1\n"
   ]
  },
  {
   "cell_type": "code",
   "execution_count": 5,
   "id": "cfaca573",
   "metadata": {},
   "outputs": [],
   "source": [
    "# 13. If you had a function named bacon() inside a module named spam, how would you call it after importing spam?\n",
    "\n",
    "# Ans :\n",
    "\n",
    "#import spam\n",
    "#a= spam.bacon"
   ]
  },
  {
   "cell_type": "code",
   "execution_count": null,
   "id": "e37cf809",
   "metadata": {},
   "outputs": [],
   "source": []
  }
 ],
 "metadata": {
  "kernelspec": {
   "display_name": "Python 3 (ipykernel)",
   "language": "python",
   "name": "python3"
  },
  "language_info": {
   "codemirror_mode": {
    "name": "ipython",
    "version": 3
   },
   "file_extension": ".py",
   "mimetype": "text/x-python",
   "name": "python",
   "nbconvert_exporter": "python",
   "pygments_lexer": "ipython3",
   "version": "3.9.7"
  }
 },
 "nbformat": 4,
 "nbformat_minor": 5
}
